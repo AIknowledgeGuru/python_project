{
 "cells": [
  {
   "cell_type": "markdown",
   "id": "49da9adb",
   "metadata": {},
   "source": [
    "# Reading from Files"
   ]
  },
  {
   "cell_type": "code",
   "execution_count": 4,
   "id": "6c958859",
   "metadata": {
    "scrolled": true
   },
   "outputs": [
    {
     "name": "stdout",
     "output_type": "stream",
     "text": [
      "Hello, world!\n"
     ]
    }
   ],
   "source": [
    "# Open a file for reading\n",
    "file = open(\"./files/example.txt\", \"r\")\n",
    "\n",
    "# Read the entire contents of the file\n",
    "contents = file.read()\n",
    "print(contents)\n",
    "\n",
    "# Close the file\n",
    "file.close()\n"
   ]
  },
  {
   "cell_type": "markdown",
   "id": "e4b53591",
   "metadata": {},
   "source": [
    "## Writing to Files"
   ]
  },
  {
   "cell_type": "code",
   "execution_count": 6,
   "id": "3b345a0a",
   "metadata": {},
   "outputs": [],
   "source": [
    "# Open a file for writing\n",
    "file = open(\"./files/example1.txt\", \"w\")\n",
    "\n",
    "# Write some content to the file\n",
    "file.write(\"Hello, universe!\")\n",
    "\n",
    "# Close the file\n",
    "file.close()\n"
   ]
  },
  {
   "cell_type": "markdown",
   "id": "e80f868f",
   "metadata": {},
   "source": [
    "## Append in existing file"
   ]
  },
  {
   "cell_type": "code",
   "execution_count": 7,
   "id": "7853d9d2",
   "metadata": {},
   "outputs": [],
   "source": [
    "# Open a file for writing\n",
    "file = open(\"./files/example1.txt\", \"a\")\n",
    "\n",
    "# Write some content to the file\n",
    "file.write(\"\\n Hello, universe 1!\")\n",
    "\n",
    "# Close the file\n",
    "file.close()"
   ]
  },
  {
   "cell_type": "markdown",
   "id": "e649b2fc",
   "metadata": {},
   "source": [
    "## Using Context Managers"
   ]
  },
  {
   "cell_type": "code",
   "execution_count": 8,
   "id": "8b9a8d17",
   "metadata": {},
   "outputs": [],
   "source": [
    "# Open a file using a context manager\n",
    "with open(\"./files/example2.txt\", \"w\") as file:\n",
    "    file.write(\"good bye!\")\n"
   ]
  },
  {
   "cell_type": "code",
   "execution_count": 10,
   "id": "7ee83830",
   "metadata": {},
   "outputs": [
    {
     "ename": "ValueError",
     "evalue": "I/O operation on closed file.",
     "output_type": "error",
     "traceback": [
      "\u001b[1;31m---------------------------------------------------------------------------\u001b[0m",
      "\u001b[1;31mValueError\u001b[0m                                Traceback (most recent call last)",
      "Cell \u001b[1;32mIn[10], line 1\u001b[0m\n\u001b[1;32m----> 1\u001b[0m \u001b[43mfile\u001b[49m\u001b[38;5;241;43m.\u001b[39;49m\u001b[43mwrite\u001b[49m\u001b[43m(\u001b[49m\u001b[38;5;124;43m\"\u001b[39;49m\u001b[38;5;124;43ma\u001b[39;49m\u001b[38;5;124;43m\"\u001b[39;49m\u001b[43m)\u001b[49m\n",
      "\u001b[1;31mValueError\u001b[0m: I/O operation on closed file."
     ]
    }
   ],
   "source": [
    "file.write(\"a\")"
   ]
  },
  {
   "cell_type": "code",
   "execution_count": null,
   "id": "be89cec3",
   "metadata": {},
   "outputs": [],
   "source": []
  },
  {
   "cell_type": "code",
   "execution_count": null,
   "id": "976b36f0",
   "metadata": {},
   "outputs": [],
   "source": []
  },
  {
   "cell_type": "code",
   "execution_count": null,
   "id": "12a795f8",
   "metadata": {},
   "outputs": [],
   "source": []
  },
  {
   "cell_type": "code",
   "execution_count": null,
   "id": "b436a2e7",
   "metadata": {},
   "outputs": [],
   "source": []
  },
  {
   "cell_type": "code",
   "execution_count": null,
   "id": "50e26df1",
   "metadata": {},
   "outputs": [],
   "source": []
  },
  {
   "cell_type": "code",
   "execution_count": null,
   "id": "52722475",
   "metadata": {},
   "outputs": [],
   "source": []
  },
  {
   "cell_type": "code",
   "execution_count": null,
   "id": "6c2bea80",
   "metadata": {},
   "outputs": [],
   "source": []
  },
  {
   "cell_type": "code",
   "execution_count": null,
   "id": "4a1db945",
   "metadata": {},
   "outputs": [],
   "source": [
    "\n",
    "\n",
    "\n"
   ]
  }
 ],
 "metadata": {
  "kernelspec": {
   "display_name": "Python 3 (ipykernel)",
   "language": "python",
   "name": "python3"
  },
  "language_info": {
   "codemirror_mode": {
    "name": "ipython",
    "version": 3
   },
   "file_extension": ".py",
   "mimetype": "text/x-python",
   "name": "python",
   "nbconvert_exporter": "python",
   "pygments_lexer": "ipython3",
   "version": "3.9.7"
  }
 },
 "nbformat": 4,
 "nbformat_minor": 5
}
