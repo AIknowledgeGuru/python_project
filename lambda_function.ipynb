{
 "cells": [
  {
   "cell_type": "markdown",
   "id": "c248544c",
   "metadata": {},
   "source": [
    "# What are Lambda Functions?\n",
    "Small, anonymous functions that can be defined in a single line of code"
   ]
  },
  {
   "cell_type": "markdown",
   "id": "7e944f7f",
   "metadata": {},
   "source": [
    "## Syntax of Lambda Functions\n",
    "\n",
    "The syntax of a lambda function is quite simple.\n",
    "\n",
    "It starts with the lambda keyword, followed by parameters (if any), a colon, \n",
    "\n",
    "and then the expression or operation to be performed"
   ]
  },
  {
   "cell_type": "code",
   "execution_count": 3,
   "id": "c779a65d",
   "metadata": {},
   "outputs": [
    {
     "name": "stdout",
     "output_type": "stream",
     "text": [
      "16\n"
     ]
    }
   ],
   "source": [
    "square = lambda x: x*x\n",
    "print(square(4))  # Output: 8"
   ]
  },
  {
   "cell_type": "code",
   "execution_count": 4,
   "id": "d2f16960",
   "metadata": {},
   "outputs": [],
   "source": [
    "add = lambda x,y: x+y"
   ]
  },
  {
   "cell_type": "code",
   "execution_count": 5,
   "id": "35356b3e",
   "metadata": {},
   "outputs": [
    {
     "data": {
      "text/plain": [
       "11"
      ]
     },
     "execution_count": 5,
     "metadata": {},
     "output_type": "execute_result"
    }
   ],
   "source": [
    "add(3,8)"
   ]
  },
  {
   "cell_type": "code",
   "execution_count": null,
   "id": "f338ac59",
   "metadata": {},
   "outputs": [],
   "source": []
  },
  {
   "cell_type": "markdown",
   "id": "b9ae2903",
   "metadata": {},
   "source": [
    "# Using Lambda Functions\n",
    "\n",
    "Lambda functions are often used in combination with built-in functions like map(), filter(), and sorted()"
   ]
  },
  {
   "cell_type": "code",
   "execution_count": 7,
   "id": "f6309672",
   "metadata": {},
   "outputs": [
    {
     "name": "stdout",
     "output_type": "stream",
     "text": [
      "[1, 4, 9, 16, 25]\n",
      "[2, 4]\n",
      "['Bob', 'Alice', 'David', 'Charlie']\n"
     ]
    }
   ],
   "source": [
    "# Example 1: Using lambda with map()\n",
    "nums = [1, 2, 3, 4, 5]\n",
    "squared = map(lambda x: x ** 2, nums)\n",
    "print(list(squared))  # Output: [1, 4, 9, 16, 25]\n",
    "\n",
    "# Example 2: Using lambda with filter()\n",
    "nums = [1, 2, 3, 4, 5]\n",
    "even_nums = filter(lambda x: x % 2 == 0, nums)\n",
    "print(list(even_nums))  # Output: [2, 4]\n",
    "\n",
    "# Example 3: Using lambda with sorted()\n",
    "names = ['Alice', 'Bob', 'Charlie', 'David']\n",
    "sorted_names = sorted(names, key=lambda x: len(x))\n",
    "print(sorted_names)  # Output: ['Bob', 'Alice', 'David', 'Charlie']"
   ]
  }
 ],
 "metadata": {
  "kernelspec": {
   "display_name": "Python 3 (ipykernel)",
   "language": "python",
   "name": "python3"
  },
  "language_info": {
   "codemirror_mode": {
    "name": "ipython",
    "version": 3
   },
   "file_extension": ".py",
   "mimetype": "text/x-python",
   "name": "python",
   "nbconvert_exporter": "python",
   "pygments_lexer": "ipython3",
   "version": "3.9.7"
  }
 },
 "nbformat": 4,
 "nbformat_minor": 5
}
