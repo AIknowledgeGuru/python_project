{
 "cells": [
  {
   "cell_type": "markdown",
   "id": "905c756c",
   "metadata": {},
   "source": [
    "## What are Try-Except Blocks?\n",
    "\n",
    "Python's way of handling exceptions or errors that occur during the execution of your code"
   ]
  },
  {
   "cell_type": "markdown",
   "id": "dac44282",
   "metadata": {},
   "source": [
    "## Syntax of Try-Except Blocks"
   ]
  },
  {
   "cell_type": "code",
   "execution_count": 8,
   "id": "c8d6893e",
   "metadata": {},
   "outputs": [
    {
     "name": "stdout",
     "output_type": "stream",
     "text": [
      "Enter a number: 0\n"
     ]
    },
    {
     "ename": "ZeroDivisionError",
     "evalue": "division by zero",
     "output_type": "error",
     "traceback": [
      "\u001b[1;31m---------------------------------------------------------------------------\u001b[0m",
      "\u001b[1;31mZeroDivisionError\u001b[0m                         Traceback (most recent call last)",
      "Cell \u001b[1;32mIn[8], line 2\u001b[0m\n\u001b[0;32m      1\u001b[0m num \u001b[38;5;241m=\u001b[39m \u001b[38;5;28mint\u001b[39m(\u001b[38;5;28minput\u001b[39m(\u001b[38;5;124m\"\u001b[39m\u001b[38;5;124mEnter a number: \u001b[39m\u001b[38;5;124m\"\u001b[39m))\n\u001b[1;32m----> 2\u001b[0m result \u001b[38;5;241m=\u001b[39m \u001b[38;5;241;43m10\u001b[39;49m\u001b[43m \u001b[49m\u001b[38;5;241;43m/\u001b[39;49m\u001b[43m \u001b[49m\u001b[43mnum\u001b[49m\n\u001b[0;32m      3\u001b[0m \u001b[38;5;28mprint\u001b[39m(\u001b[38;5;124m\"\u001b[39m\u001b[38;5;124mResult:\u001b[39m\u001b[38;5;124m\"\u001b[39m, result)\n\u001b[0;32m      4\u001b[0m \u001b[38;5;28mprint\u001b[39m(\u001b[38;5;124m\"\u001b[39m\u001b[38;5;124manything else\u001b[39m\u001b[38;5;124m\"\u001b[39m)\n",
      "\u001b[1;31mZeroDivisionError\u001b[0m: division by zero"
     ]
    }
   ],
   "source": [
    "num = int(input(\"Enter a number: \"))\n",
    "result = 10 / num\n",
    "print(\"Result:\", result)\n",
    "print(\"anything else\")"
   ]
  },
  {
   "cell_type": "code",
   "execution_count": 2,
   "id": "950ed6de",
   "metadata": {},
   "outputs": [
    {
     "name": "stdout",
     "output_type": "stream",
     "text": [
      "Enter a number: 0\n",
      "Error: Something went wrong\n",
      "0\n"
     ]
    }
   ],
   "source": [
    "try:\n",
    "    num = int(input(\"Enter a number: \"))\n",
    "    result = 10 / num\n",
    "    print(\"Result:\", result)\n",
    "except :\n",
    "    result = 0\n",
    "    print(\"Error: Something went wrong\")\n",
    "print(result)"
   ]
  },
  {
   "cell_type": "markdown",
   "id": "33e49183",
   "metadata": {},
   "source": [
    "## Using Except Blocks\n",
    "\n",
    "* You can use multiple except blocks to catch different types of errors and handle them accordingly. \n",
    "\n",
    "* You can also use a generic except block to catch any other types of errors that you haven't specifically handled."
   ]
  },
  {
   "cell_type": "code",
   "execution_count": 15,
   "id": "40691f67",
   "metadata": {},
   "outputs": [
    {
     "name": "stdout",
     "output_type": "stream",
     "text": [
      "Enter a number: 9\n",
      "None\n",
      "gen err name 'nu' is not defined\n",
      "rest of code\n"
     ]
    },
    {
     "name": "stderr",
     "output_type": "stream",
     "text": [
      "Traceback (most recent call last):\n",
      "  File \"C:\\Users\\Nouman Affaq\\AppData\\Local\\Temp\\ipykernel_548\\786367325.py\", line 4, in <module>\n",
      "    result = 10 / nu\n",
      "NameError: name 'nu' is not defined\n"
     ]
    }
   ],
   "source": [
    "try:\n",
    "    # Some code that may raise an error\n",
    "    num = int(input(\"Enter a number: \"))\n",
    "    result = 10 / nu\n",
    "    print(\"Result:\", result)\n",
    "except ZeroDivisionError:\n",
    "    # Handle division by zero error\n",
    "    print(\"div zero\")\n",
    "except ValueError:\n",
    "    # Handle value error\n",
    "    print(\" val err\")\n",
    "except Exception as e:\n",
    "    # Handle any other type of error\n",
    "    import traceback\n",
    "    print(traceback.print_exc())\n",
    "    print(\"gen err\", e)\n",
    "print(\"rest of code\")\n"
   ]
  }
 ],
 "metadata": {
  "kernelspec": {
   "display_name": "Python 3 (ipykernel)",
   "language": "python",
   "name": "python3"
  },
  "language_info": {
   "codemirror_mode": {
    "name": "ipython",
    "version": 3
   },
   "file_extension": ".py",
   "mimetype": "text/x-python",
   "name": "python",
   "nbconvert_exporter": "python",
   "pygments_lexer": "ipython3",
   "version": "3.9.7"
  }
 },
 "nbformat": 4,
 "nbformat_minor": 5
}
