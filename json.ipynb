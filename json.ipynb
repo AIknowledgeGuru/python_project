{
 "cells": [
  {
   "cell_type": "markdown",
   "id": "acfaa2a8",
   "metadata": {},
   "source": [
    "## What is JSON?\n",
    "\n",
    "* JSON is a text-based data format that is easy for humans to read and write and easy for machines to parse and generate.\n",
    "* It consists of key-value pairs and arrays, making it an ideal choice for transmitting structured data over a network."
   ]
  },
  {
   "cell_type": "markdown",
   "id": "44254eb3",
   "metadata": {},
   "source": [
    "## Parsing JSON in Python"
   ]
  },
  {
   "cell_type": "code",
   "execution_count": 2,
   "id": "9ec7f310",
   "metadata": {},
   "outputs": [
    {
     "name": "stdout",
     "output_type": "stream",
     "text": [
      "dict_keys(['name', 'age', 'city'])\n"
     ]
    }
   ],
   "source": [
    "import json\n",
    "\n",
    "# JSON string\n",
    "json_string = '{\"name\": \"John\", \"age\": 30, \"city\": \"New York\"}'\n",
    "\n",
    "# Parse JSON string\n",
    "data = json.loads(json_string)\n",
    "\n",
    "print(data.keys())\n"
   ]
  },
  {
   "cell_type": "markdown",
   "id": "933e9171",
   "metadata": {},
   "source": [
    "## Serializing Python Objects to JSON"
   ]
  },
  {
   "cell_type": "code",
   "execution_count": 12,
   "id": "67087616",
   "metadata": {},
   "outputs": [
    {
     "name": "stdout",
     "output_type": "stream",
     "text": [
      "{\"name\": \"John\", \"age\": 30, \"city\": \"New York\"}\n"
     ]
    }
   ],
   "source": [
    "import json\n",
    "\n",
    "# Python dictionary\n",
    "data = {\"name\": \"John\", \"age\": 30, \"city\": \"New York\"}\n",
    "\n",
    "# Serialize Python dictionary to JSON string\n",
    "json_string = json.dumps(data)\n",
    "\n",
    "print(json_string)\n"
   ]
  },
  {
   "cell_type": "code",
   "execution_count": null,
   "id": "a45223b6",
   "metadata": {},
   "outputs": [],
   "source": []
  },
  {
   "cell_type": "markdown",
   "id": "d64df643",
   "metadata": {},
   "source": [
    "## Working with JSON Files"
   ]
  },
  {
   "cell_type": "code",
   "execution_count": 14,
   "id": "9e3c37da",
   "metadata": {},
   "outputs": [
    {
     "name": "stdout",
     "output_type": "stream",
     "text": [
      "{'name': 'John', 'age': 30, 'city': 'New York'}\n"
     ]
    }
   ],
   "source": [
    "import json\n",
    "\n",
    "# Read from JSON file\n",
    "with open(\"output.json\", \"r\") as file:\n",
    "    data = json.load(file)\n",
    "\n",
    "print(data)\n"
   ]
  },
  {
   "cell_type": "code",
   "execution_count": 13,
   "id": "f6310337",
   "metadata": {},
   "outputs": [],
   "source": [
    "\n",
    "# Write to JSON file\n",
    "data = {\"name\": \"John\", \"age\": 30, \"city\": \"New York\"}\n",
    "\n",
    "with open(\"output.json\", \"w\") as file:\n",
    "    json.dump(data, file)\n"
   ]
  },
  {
   "cell_type": "code",
   "execution_count": null,
   "id": "49923e96",
   "metadata": {},
   "outputs": [],
   "source": []
  },
  {
   "cell_type": "code",
   "execution_count": null,
   "id": "337facfc",
   "metadata": {},
   "outputs": [],
   "source": []
  },
  {
   "cell_type": "code",
   "execution_count": null,
   "id": "c8e7f513",
   "metadata": {},
   "outputs": [],
   "source": []
  },
  {
   "cell_type": "code",
   "execution_count": null,
   "id": "52a9c3d5",
   "metadata": {},
   "outputs": [],
   "source": []
  }
 ],
 "metadata": {
  "kernelspec": {
   "display_name": "FNML",
   "language": "python",
   "name": "fnml"
  },
  "language_info": {
   "codemirror_mode": {
    "name": "ipython",
    "version": 3
   },
   "file_extension": ".py",
   "mimetype": "text/x-python",
   "name": "python",
   "nbconvert_exporter": "python",
   "pygments_lexer": "ipython3",
   "version": "3.9.7"
  }
 },
 "nbformat": 4,
 "nbformat_minor": 5
}
