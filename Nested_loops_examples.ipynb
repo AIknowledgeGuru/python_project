{
 "cells": [
  {
   "cell_type": "markdown",
   "id": "7aebbaf3",
   "metadata": {},
   "source": [
    "# Rectangle of m x n any character"
   ]
  },
  {
   "cell_type": "code",
   "execution_count": 3,
   "id": "8391c5af",
   "metadata": {},
   "outputs": [
    {
     "name": "stdout",
     "output_type": "stream",
     "text": [
      "****************************************\n",
      "****************************************\n"
     ]
    }
   ],
   "source": [
    "M = 2\n",
    "N = 40\n",
    "char = '*'\n",
    "for i in range(M):\n",
    "    for j in range(N):\n",
    "        print(char, end = '')\n",
    "    print()"
   ]
  },
  {
   "cell_type": "markdown",
   "id": "5f7f8803",
   "metadata": {},
   "source": [
    "## single loop"
   ]
  },
  {
   "cell_type": "code",
   "execution_count": 7,
   "id": "298d0689",
   "metadata": {},
   "outputs": [
    {
     "name": "stdout",
     "output_type": "stream",
     "text": [
      "$$$$$$$$$$$$$$$$$$$$$$$$$$$$$$\n",
      "$$$$$$$$$$$$$$$$$$$$$$$$$$$$$$\n",
      "$$$$$$$$$$$$$$$$$$$$$$$$$$$$$$\n",
      "$$$$$$$$$$$$$$$$$$$$$$$$$$$$$$\n",
      "$$$$$$$$$$$$$$$$$$$$$$$$$$$$$$\n"
     ]
    }
   ],
   "source": [
    "M = 5\n",
    "N = 30\n",
    "char = '$'\n",
    "for i in range(M):\n",
    "    print(char*N)"
   ]
  },
  {
   "cell_type": "markdown",
   "id": "4e5a7027",
   "metadata": {},
   "source": [
    "# Triangle made of stars"
   ]
  },
  {
   "cell_type": "code",
   "execution_count": 10,
   "id": "b623951b",
   "metadata": {},
   "outputs": [
    {
     "name": "stdout",
     "output_type": "stream",
     "text": [
      "\n",
      "!\n",
      "!!\n",
      "!!!\n",
      "!!!!\n",
      "!!!!!\n",
      "!!!!!!\n",
      "!!!!!!!\n",
      "!!!!!!!!\n",
      "!!!!!!!!!\n",
      "!!!!!!!!!!\n",
      "!!!!!!!!!!!\n",
      "!!!!!!!!!!!!\n",
      "!!!!!!!!!!!!!\n",
      "!!!!!!!!!!!!!!\n",
      "!!!!!!!!!!!!!!!\n",
      "!!!!!!!!!!!!!!!!\n",
      "!!!!!!!!!!!!!!!!!\n",
      "!!!!!!!!!!!!!!!!!!\n",
      "!!!!!!!!!!!!!!!!!!!\n"
     ]
    }
   ],
   "source": [
    "M = 20\n",
    "char = '!'\n",
    "for i in range(M):\n",
    "    for j in range(i):\n",
    "        print(char, end = '')\n",
    "    print()"
   ]
  },
  {
   "cell_type": "markdown",
   "id": "7b446252",
   "metadata": {},
   "source": [
    "## single loop"
   ]
  },
  {
   "cell_type": "code",
   "execution_count": 11,
   "id": "5d0b0249",
   "metadata": {},
   "outputs": [
    {
     "name": "stdout",
     "output_type": "stream",
     "text": [
      "*\n",
      "**\n",
      "***\n",
      "****\n",
      "*****\n",
      "******\n",
      "*******\n",
      "********\n",
      "*********\n",
      "**********\n",
      "***********\n",
      "************\n",
      "*************\n",
      "**************\n",
      "***************\n"
     ]
    }
   ],
   "source": [
    "M = 15\n",
    "char = '*'\n",
    "for i in range(M):\n",
    "    print(char*(i+1))"
   ]
  },
  {
   "cell_type": "markdown",
   "id": "90735cce",
   "metadata": {},
   "source": [
    "# equilateral of size N"
   ]
  },
  {
   "cell_type": "code",
   "execution_count": 14,
   "id": "786224e5",
   "metadata": {},
   "outputs": [
    {
     "name": "stdout",
     "output_type": "stream",
     "text": [
      "                              \n",
      "                             t \n",
      "                            t t \n",
      "                           t t t \n",
      "                          t t t t \n",
      "                         t t t t t \n",
      "                        t t t t t t \n",
      "                       t t t t t t t \n",
      "                      t t t t t t t t \n",
      "                     t t t t t t t t t \n",
      "                    t t t t t t t t t t \n",
      "                   t t t t t t t t t t t \n",
      "                  t t t t t t t t t t t t \n",
      "                 t t t t t t t t t t t t t \n",
      "                t t t t t t t t t t t t t t \n",
      "               t t t t t t t t t t t t t t t \n",
      "              t t t t t t t t t t t t t t t t \n",
      "             t t t t t t t t t t t t t t t t t \n",
      "            t t t t t t t t t t t t t t t t t t \n",
      "           t t t t t t t t t t t t t t t t t t t \n",
      "          t t t t t t t t t t t t t t t t t t t t \n",
      "         t t t t t t t t t t t t t t t t t t t t t \n",
      "        t t t t t t t t t t t t t t t t t t t t t t \n",
      "       t t t t t t t t t t t t t t t t t t t t t t t \n",
      "      t t t t t t t t t t t t t t t t t t t t t t t t \n",
      "     t t t t t t t t t t t t t t t t t t t t t t t t t \n",
      "    t t t t t t t t t t t t t t t t t t t t t t t t t t \n",
      "   t t t t t t t t t t t t t t t t t t t t t t t t t t t \n",
      "  t t t t t t t t t t t t t t t t t t t t t t t t t t t t \n",
      " t t t t t t t t t t t t t t t t t t t t t t t t t t t t t \n"
     ]
    }
   ],
   "source": [
    "N = 30\n",
    "char = 't'\n",
    "for i in range(N):\n",
    "    for j in range((N)-i):\n",
    "        print(\" \", end = \"\")\n",
    "    for j in range(i):\n",
    "        print(char+\" \", end = \"\")\n",
    "    print()\n",
    "    "
   ]
  },
  {
   "cell_type": "markdown",
   "id": "9a68567b",
   "metadata": {},
   "source": [
    "## Single loop"
   ]
  },
  {
   "cell_type": "code",
   "execution_count": 17,
   "id": "4fcf0803",
   "metadata": {},
   "outputs": [
    {
     "name": "stdout",
     "output_type": "stream",
     "text": [
      "                     \n",
      "                    g \n",
      "                   g g \n",
      "                  g g g \n",
      "                 g g g g \n",
      "                g g g g g \n",
      "               g g g g g g \n",
      "              g g g g g g g \n",
      "             g g g g g g g g \n",
      "            g g g g g g g g g \n",
      "           g g g g g g g g g g \n",
      "          g g g g g g g g g g g \n",
      "         g g g g g g g g g g g g \n",
      "        g g g g g g g g g g g g g \n",
      "       g g g g g g g g g g g g g g \n",
      "      g g g g g g g g g g g g g g g \n",
      "     g g g g g g g g g g g g g g g g \n",
      "    g g g g g g g g g g g g g g g g g \n",
      "   g g g g g g g g g g g g g g g g g g \n",
      "  g g g g g g g g g g g g g g g g g g g \n"
     ]
    }
   ],
   "source": [
    "N = 20\n",
    "char = 'g'\n",
    "for i in range(N):\n",
    "    print(\" \"*((N)-i), (char+\" \")*i)\n",
    "    "
   ]
  },
  {
   "cell_type": "markdown",
   "id": "cdaa5756",
   "metadata": {},
   "source": [
    "# Rhombus of size N"
   ]
  },
  {
   "cell_type": "code",
   "execution_count": 20,
   "id": "1027b376",
   "metadata": {},
   "outputs": [
    {
     "name": "stdout",
     "output_type": "stream",
     "text": [
      "                    \n",
      "                   9 \n",
      "                  9 9 \n",
      "                 9 9 9 \n",
      "                9 9 9 9 \n",
      "               9 9 9 9 9 \n",
      "              9 9 9 9 9 9 \n",
      "             9 9 9 9 9 9 9 \n",
      "            9 9 9 9 9 9 9 9 \n",
      "           9 9 9 9 9 9 9 9 9 \n",
      "          9 9 9 9 9 9 9 9 9 9 \n",
      "         9 9 9 9 9 9 9 9 9 9 9 \n",
      "        9 9 9 9 9 9 9 9 9 9 9 9 \n",
      "       9 9 9 9 9 9 9 9 9 9 9 9 9 \n",
      "      9 9 9 9 9 9 9 9 9 9 9 9 9 9 \n",
      "     9 9 9 9 9 9 9 9 9 9 9 9 9 9 9 \n",
      "    9 9 9 9 9 9 9 9 9 9 9 9 9 9 9 9 \n",
      "   9 9 9 9 9 9 9 9 9 9 9 9 9 9 9 9 9 \n",
      "  9 9 9 9 9 9 9 9 9 9 9 9 9 9 9 9 9 9 \n",
      " 9 9 9 9 9 9 9 9 9 9 9 9 9 9 9 9 9 9 9 \n",
      "9 9 9 9 9 9 9 9 9 9 9 9 9 9 9 9 9 9 9 9 \n",
      " 9 9 9 9 9 9 9 9 9 9 9 9 9 9 9 9 9 9 9 \n",
      "  9 9 9 9 9 9 9 9 9 9 9 9 9 9 9 9 9 9 \n",
      "   9 9 9 9 9 9 9 9 9 9 9 9 9 9 9 9 9 \n",
      "    9 9 9 9 9 9 9 9 9 9 9 9 9 9 9 9 \n",
      "     9 9 9 9 9 9 9 9 9 9 9 9 9 9 9 \n",
      "      9 9 9 9 9 9 9 9 9 9 9 9 9 9 \n",
      "       9 9 9 9 9 9 9 9 9 9 9 9 9 \n",
      "        9 9 9 9 9 9 9 9 9 9 9 9 \n",
      "         9 9 9 9 9 9 9 9 9 9 9 \n",
      "          9 9 9 9 9 9 9 9 9 9 \n",
      "           9 9 9 9 9 9 9 9 9 \n",
      "            9 9 9 9 9 9 9 9 \n",
      "             9 9 9 9 9 9 9 \n",
      "              9 9 9 9 9 9 \n",
      "               9 9 9 9 9 \n",
      "                9 9 9 9 \n",
      "                 9 9 9 \n",
      "                  9 9 \n",
      "                   9 \n"
     ]
    }
   ],
   "source": [
    "N = 20\n",
    "char = '9'\n",
    "for i in range(N):\n",
    "    for j in range((N)-i):\n",
    "        print(\" \", end = \"\")\n",
    "    for j in range(i):\n",
    "        print(char+\" \", end = \"\")\n",
    "    print()\n",
    "\n",
    "for i in range(N):\n",
    "    for j in range(i):\n",
    "        print(\" \", end = \"\")\n",
    "    for j in range((N)-i):\n",
    "        print(char+\" \", end = \"\")\n",
    "    print()\n",
    "    "
   ]
  },
  {
   "cell_type": "markdown",
   "id": "cbe96866",
   "metadata": {},
   "source": [
    "## Single loops"
   ]
  },
  {
   "cell_type": "code",
   "execution_count": 24,
   "id": "1804603a",
   "metadata": {
    "scrolled": true
   },
   "outputs": [
    {
     "name": "stdout",
     "output_type": "stream",
     "text": [
      "                               \n",
      "                              - \n",
      "                             - - \n",
      "                            - - - \n",
      "                           - - - - \n",
      "                          - - - - - \n",
      "                         - - - - - - \n",
      "                        - - - - - - - \n",
      "                       - - - - - - - - \n",
      "                      - - - - - - - - - \n",
      "                     - - - - - - - - - - \n",
      "                    - - - - - - - - - - - \n",
      "                   - - - - - - - - - - - - \n",
      "                  - - - - - - - - - - - - - \n",
      "                 - - - - - - - - - - - - - - \n",
      "                - - - - - - - - - - - - - - - \n",
      "               - - - - - - - - - - - - - - - - \n",
      "              - - - - - - - - - - - - - - - - - \n",
      "             - - - - - - - - - - - - - - - - - - \n",
      "            - - - - - - - - - - - - - - - - - - - \n",
      "           - - - - - - - - - - - - - - - - - - - - \n",
      "          - - - - - - - - - - - - - - - - - - - - - \n",
      "         - - - - - - - - - - - - - - - - - - - - - - \n",
      "        - - - - - - - - - - - - - - - - - - - - - - - \n",
      "       - - - - - - - - - - - - - - - - - - - - - - - - \n",
      "      - - - - - - - - - - - - - - - - - - - - - - - - - \n",
      "     - - - - - - - - - - - - - - - - - - - - - - - - - - \n",
      "    - - - - - - - - - - - - - - - - - - - - - - - - - - - \n",
      "   - - - - - - - - - - - - - - - - - - - - - - - - - - - - \n",
      "  - - - - - - - - - - - - - - - - - - - - - - - - - - - - - \n",
      " - - - - - - - - - - - - - - - - - - - - - - - - - - - - - - \n",
      "  - - - - - - - - - - - - - - - - - - - - - - - - - - - - - \n",
      "   - - - - - - - - - - - - - - - - - - - - - - - - - - - - \n",
      "    - - - - - - - - - - - - - - - - - - - - - - - - - - - \n",
      "     - - - - - - - - - - - - - - - - - - - - - - - - - - \n",
      "      - - - - - - - - - - - - - - - - - - - - - - - - - \n",
      "       - - - - - - - - - - - - - - - - - - - - - - - - \n",
      "        - - - - - - - - - - - - - - - - - - - - - - - \n",
      "         - - - - - - - - - - - - - - - - - - - - - - \n",
      "          - - - - - - - - - - - - - - - - - - - - - \n",
      "           - - - - - - - - - - - - - - - - - - - - \n",
      "            - - - - - - - - - - - - - - - - - - - \n",
      "             - - - - - - - - - - - - - - - - - - \n",
      "              - - - - - - - - - - - - - - - - - \n",
      "               - - - - - - - - - - - - - - - - \n",
      "                - - - - - - - - - - - - - - - \n",
      "                 - - - - - - - - - - - - - - \n",
      "                  - - - - - - - - - - - - - \n",
      "                   - - - - - - - - - - - - \n",
      "                    - - - - - - - - - - - \n",
      "                     - - - - - - - - - - \n",
      "                      - - - - - - - - - \n",
      "                       - - - - - - - - \n",
      "                        - - - - - - - \n",
      "                         - - - - - - \n",
      "                          - - - - - \n",
      "                           - - - - \n",
      "                            - - - \n",
      "                             - - \n",
      "                              - \n"
     ]
    }
   ],
   "source": [
    "N = 30\n",
    "char = '-'\n",
    "for i in range(N):\n",
    "    print(\" \"*((N)-i), (char+\" \")*i)\n",
    "for i in range(N):\n",
    "    print(\" \"*i, (char+\" \")*((N)-i))"
   ]
  },
  {
   "cell_type": "code",
   "execution_count": null,
   "id": "1e92c2c9",
   "metadata": {},
   "outputs": [],
   "source": []
  },
  {
   "cell_type": "code",
   "execution_count": null,
   "id": "d5be2e16",
   "metadata": {},
   "outputs": [],
   "source": []
  },
  {
   "cell_type": "code",
   "execution_count": null,
   "id": "01ca0e6c",
   "metadata": {},
   "outputs": [],
   "source": []
  },
  {
   "cell_type": "code",
   "execution_count": null,
   "id": "babf52fe",
   "metadata": {},
   "outputs": [],
   "source": []
  },
  {
   "cell_type": "code",
   "execution_count": null,
   "id": "59ad5f29",
   "metadata": {},
   "outputs": [],
   "source": []
  }
 ],
 "metadata": {
  "kernelspec": {
   "display_name": "Python 3 (ipykernel)",
   "language": "python",
   "name": "python3"
  },
  "language_info": {
   "codemirror_mode": {
    "name": "ipython",
    "version": 3
   },
   "file_extension": ".py",
   "mimetype": "text/x-python",
   "name": "python",
   "nbconvert_exporter": "python",
   "pygments_lexer": "ipython3",
   "version": "3.9.7"
  }
 },
 "nbformat": 4,
 "nbformat_minor": 5
}
