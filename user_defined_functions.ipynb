{
 "cells": [
  {
   "cell_type": "markdown",
   "id": "e25709c9",
   "metadata": {},
   "source": [
    "## What are Functions?\n",
    "* blocks of code that perform a specific task. \n",
    "* Instead of writing the same code repeatedly, we can encapsulate it within a function\n",
    "* we can call that function whenever we need to execute that code. \n",
    "\n",
    "Functions are essential for keeping our code organized, readable, and maintainable."
   ]
  },
  {
   "cell_type": "markdown",
   "id": "79c26d3b",
   "metadata": {},
   "source": [
    "## Creating Your First Function\n"
   ]
  },
  {
   "cell_type": "code",
   "execution_count": 1,
   "id": "85080612",
   "metadata": {},
   "outputs": [],
   "source": [
    "def greet():\n",
    "    print(\"Hello, welcome to our Python tutorial!\")"
   ]
  },
  {
   "cell_type": "code",
   "execution_count": 2,
   "id": "9a58167a",
   "metadata": {},
   "outputs": [
    {
     "name": "stdout",
     "output_type": "stream",
     "text": [
      "Hello, welcome to our Python tutorial!\n"
     ]
    }
   ],
   "source": [
    "greet()"
   ]
  },
  {
   "cell_type": "markdown",
   "id": "6a812ac5",
   "metadata": {},
   "source": [
    "## Function Parameters and Return Values"
   ]
  },
  {
   "cell_type": "code",
   "execution_count": 4,
   "id": "e35f283f",
   "metadata": {},
   "outputs": [
    {
     "ename": "TypeError",
     "evalue": "add() missing 2 required positional arguments: 'a' and 'b'",
     "output_type": "error",
     "traceback": [
      "\u001b[1;31m---------------------------------------------------------------------------\u001b[0m",
      "\u001b[1;31mTypeError\u001b[0m                                 Traceback (most recent call last)",
      "Cell \u001b[1;32mIn[4], line 1\u001b[0m\n\u001b[1;32m----> 1\u001b[0m \u001b[43madd\u001b[49m\u001b[43m(\u001b[49m\u001b[43m)\u001b[49m\n",
      "\u001b[1;31mTypeError\u001b[0m: add() missing 2 required positional arguments: 'a' and 'b'"
     ]
    }
   ],
   "source": [
    "add()"
   ]
  },
  {
   "cell_type": "code",
   "execution_count": 5,
   "id": "3828c353",
   "metadata": {},
   "outputs": [
    {
     "name": "stdout",
     "output_type": "stream",
     "text": [
      "The sum is: 8\n"
     ]
    }
   ],
   "source": [
    "def add(a, b):\n",
    "    \"\"\"\n",
    "    this function adds two numbers\n",
    "    \"\"\"\n",
    "    return a + b\n",
    "\n",
    "result = add(3, 5)\n",
    "print(\"The sum is:\", result)\n"
   ]
  },
  {
   "cell_type": "markdown",
   "id": "b2ec06b8",
   "metadata": {},
   "source": [
    "## Scope of Variables\n",
    "\n",
    "It's important to understand the scope of variables within functions. \n",
    "\n",
    "* Variables defined inside a function are local to that function and cannot be accessed outside of it.\n",
    "\n",
    "* Conversely, variables defined outside of a function are global and can be accessed from anywhere within the program."
   ]
  },
  {
   "cell_type": "code",
   "execution_count": 6,
   "id": "3734d53f",
   "metadata": {},
   "outputs": [],
   "source": [
    "def f():\n",
    "    d = 0\n",
    "    print(d)"
   ]
  },
  {
   "cell_type": "code",
   "execution_count": 9,
   "id": "30f2309e",
   "metadata": {},
   "outputs": [],
   "source": [
    "j = 9"
   ]
  },
  {
   "cell_type": "code",
   "execution_count": 12,
   "id": "4842342b",
   "metadata": {},
   "outputs": [],
   "source": [
    "def f1():\n",
    "    print(i)"
   ]
  },
  {
   "cell_type": "code",
   "execution_count": 13,
   "id": "8271389c",
   "metadata": {},
   "outputs": [
    {
     "ename": "NameError",
     "evalue": "name 'i' is not defined",
     "output_type": "error",
     "traceback": [
      "\u001b[1;31m---------------------------------------------------------------------------\u001b[0m",
      "\u001b[1;31mNameError\u001b[0m                                 Traceback (most recent call last)",
      "Cell \u001b[1;32mIn[13], line 1\u001b[0m\n\u001b[1;32m----> 1\u001b[0m \u001b[43mf1\u001b[49m\u001b[43m(\u001b[49m\u001b[43m)\u001b[49m\n",
      "Cell \u001b[1;32mIn[12], line 2\u001b[0m, in \u001b[0;36mf1\u001b[1;34m()\u001b[0m\n\u001b[0;32m      1\u001b[0m \u001b[38;5;28;01mdef\u001b[39;00m \u001b[38;5;21mf1\u001b[39m():\n\u001b[1;32m----> 2\u001b[0m     \u001b[38;5;28mprint\u001b[39m(\u001b[43mi\u001b[49m)\n",
      "\u001b[1;31mNameError\u001b[0m: name 'i' is not defined"
     ]
    }
   ],
   "source": [
    "f1()"
   ]
  },
  {
   "cell_type": "code",
   "execution_count": null,
   "id": "5ccbc383",
   "metadata": {},
   "outputs": [],
   "source": []
  }
 ],
 "metadata": {
  "kernelspec": {
   "display_name": "Python 3 (ipykernel)",
   "language": "python",
   "name": "python3"
  },
  "language_info": {
   "codemirror_mode": {
    "name": "ipython",
    "version": 3
   },
   "file_extension": ".py",
   "mimetype": "text/x-python",
   "name": "python",
   "nbconvert_exporter": "python",
   "pygments_lexer": "ipython3",
   "version": "3.9.7"
  }
 },
 "nbformat": 4,
 "nbformat_minor": 5
}
