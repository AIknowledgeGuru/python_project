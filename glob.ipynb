{
 "cells": [
  {
   "cell_type": "markdown",
   "id": "2e17734e",
   "metadata": {},
   "source": [
    "# What is the glob Module?\n",
    "\n",
    "* A built-in module in Python that provides functions for file system operations. \n",
    "* It allows us to search for files and directories using wildcard patterns, \n",
    "* similar to how we use wildcards in the command line."
   ]
  },
  {
   "cell_type": "markdown",
   "id": "730ade5a",
   "metadata": {},
   "source": [
    "### Using the glob Module"
   ]
  },
  {
   "cell_type": "code",
   "execution_count": 1,
   "id": "cf3acf15",
   "metadata": {},
   "outputs": [
    {
     "data": {
      "text/plain": [
       "'D:\\\\python\\\\to_do'"
      ]
     },
     "execution_count": 1,
     "metadata": {},
     "output_type": "execute_result"
    }
   ],
   "source": [
    "pwd()"
   ]
  },
  {
   "cell_type": "code",
   "execution_count": 2,
   "id": "df56a13a",
   "metadata": {},
   "outputs": [
    {
     "name": "stdout",
     "output_type": "stream",
     "text": [
      "['./data_for_glob\\\\untitled.txt', './data_for_glob\\\\untitled1.txt', './data_for_glob\\\\untitled2.txt']\n"
     ]
    }
   ],
   "source": [
    "import glob\n",
    "\n",
    "# Search for all text files in the current directory\n",
    "files = glob.glob(\"./data_for_glob/*.txt\")\n",
    "\n",
    "print(files)\n"
   ]
  },
  {
   "cell_type": "markdown",
   "id": "708ee112",
   "metadata": {},
   "source": [
    "### Recursive File Search\n"
   ]
  },
  {
   "cell_type": "code",
   "execution_count": null,
   "id": "76a46440",
   "metadata": {},
   "outputs": [],
   "source": [
    "# glob.glob()"
   ]
  },
  {
   "cell_type": "code",
   "execution_count": 4,
   "id": "ba48dc54",
   "metadata": {},
   "outputs": [
    {
     "name": "stdout",
     "output_type": "stream",
     "text": [
      "['.\\\\data_for_glob\\\\untitled.txt', '.\\\\data_for_glob\\\\untitled1.txt', '.\\\\data_for_glob\\\\untitled2.txt', '.\\\\data_for_glob\\\\1\\\\11.txt']\n"
     ]
    }
   ],
   "source": [
    "import glob\n",
    "\n",
    "# Recursively search for all Python files in the current directory and its subdirectories\n",
    "files = glob.glob(\"./**/*.txt\", recursive=True)\n",
    "\n",
    "print(files)\n"
   ]
  },
  {
   "cell_type": "code",
   "execution_count": null,
   "id": "2ddafd76",
   "metadata": {},
   "outputs": [],
   "source": []
  },
  {
   "cell_type": "code",
   "execution_count": null,
   "id": "54ce0fe2",
   "metadata": {},
   "outputs": [],
   "source": []
  },
  {
   "cell_type": "code",
   "execution_count": null,
   "id": "3e8cbc05",
   "metadata": {},
   "outputs": [],
   "source": []
  },
  {
   "cell_type": "code",
   "execution_count": null,
   "id": "0b97ba86",
   "metadata": {},
   "outputs": [],
   "source": []
  },
  {
   "cell_type": "code",
   "execution_count": null,
   "id": "ed9b89a4",
   "metadata": {},
   "outputs": [],
   "source": []
  }
 ],
 "metadata": {
  "kernelspec": {
   "display_name": "FNML",
   "language": "python",
   "name": "fnml"
  },
  "language_info": {
   "codemirror_mode": {
    "name": "ipython",
    "version": 3
   },
   "file_extension": ".py",
   "mimetype": "text/x-python",
   "name": "python",
   "nbconvert_exporter": "python",
   "pygments_lexer": "ipython3",
   "version": "3.9.7"
  }
 },
 "nbformat": 4,
 "nbformat_minor": 5
}
