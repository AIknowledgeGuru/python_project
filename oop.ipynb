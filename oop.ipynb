{
 "cells": [
  {
   "cell_type": "markdown",
   "id": "7973189b",
   "metadata": {},
   "source": [
    "# What are Classes?\n",
    "\n",
    "Blueprints for creating objects. \n",
    "\n",
    "### A class defines:\n",
    "* Attributes (data)\n",
    "* methods (functions) that characterize a particular type of object. \n",
    "\n",
    "Once a class is defined, we can create instances of that class, also known as objects, which have their own unique data and behavior."
   ]
  },
  {
   "cell_type": "markdown",
   "id": "b4ae691f",
   "metadata": {},
   "source": [
    "## Creating Classes in Python"
   ]
  },
  {
   "cell_type": "code",
   "execution_count": 2,
   "id": "b41c861e",
   "metadata": {},
   "outputs": [],
   "source": [
    "class Dog:\n",
    "    def __init__(self, name, age):\n",
    "        self.name = name\n",
    "        self.age = age\n",
    "\n",
    "    def bark(self):\n",
    "        print(f\"{self.name} says woof!\")\n"
   ]
  },
  {
   "cell_type": "markdown",
   "id": "2566438d",
   "metadata": {},
   "source": [
    "### Creating Objects"
   ]
  },
  {
   "cell_type": "code",
   "execution_count": 3,
   "id": "15381bf3",
   "metadata": {},
   "outputs": [
    {
     "name": "stdout",
     "output_type": "stream",
     "text": [
      "Buddy says woof!\n",
      "Max says woof!\n"
     ]
    }
   ],
   "source": [
    "dog1 = Dog(\"Buddy\", 3)\n",
    "dog2 = Dog(\"Max\", 5)\n",
    "\n",
    "dog1.bark()  # Output: Buddy says woof!\n",
    "dog2.bark()  # Output: Max says woof!\n"
   ]
  },
  {
   "cell_type": "markdown",
   "id": "155f8e2d",
   "metadata": {},
   "source": [
    "### Inheritance\n",
    "\n",
    "Allows one class to inherit attributes and methods from another class"
   ]
  },
  {
   "cell_type": "code",
   "execution_count": 4,
   "id": "d4432204",
   "metadata": {},
   "outputs": [
    {
     "name": "stdout",
     "output_type": "stream",
     "text": [
      "Buddy says woof!\n",
      "Buddy fetches the ball!\n"
     ]
    }
   ],
   "source": [
    "class GoldenRetriever(Dog):\n",
    "    def fetch(self):\n",
    "        print(f\"{self.name} fetches the ball!\")\n",
    "\n",
    "golden = GoldenRetriever(\"Buddy\", 3)\n",
    "golden.bark()   # Output: Buddy says woof!\n",
    "golden.fetch()  # Output: Buddy fetches the ball!\n"
   ]
  }
 ],
 "metadata": {
  "kernelspec": {
   "display_name": "Python 3 (ipykernel)",
   "language": "python",
   "name": "python3"
  },
  "language_info": {
   "codemirror_mode": {
    "name": "ipython",
    "version": 3
   },
   "file_extension": ".py",
   "mimetype": "text/x-python",
   "name": "python",
   "nbconvert_exporter": "python",
   "pygments_lexer": "ipython3",
   "version": "3.9.7"
  }
 },
 "nbformat": 4,
 "nbformat_minor": 5
}
